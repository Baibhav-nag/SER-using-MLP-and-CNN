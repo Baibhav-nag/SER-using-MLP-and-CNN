{
  "nbformat": 4,
  "nbformat_minor": 0,
  "metadata": {
    "colab": {
      "name": "mlp_fs1.ipynb",
      "provenance": []
    },
    "kernelspec": {
      "name": "python3",
      "display_name": "Python 3"
    },
    "language_info": {
      "name": "python"
    }
  },
  "cells": [
    {
      "cell_type": "code",
      "metadata": {
        "id": "Xvj9DAep8_fz"
      },
      "source": [
        "import librosa\n",
        "import os\n",
        "import pandas as pd\n",
        "import glob\n",
        "import numpy as np\n",
        "import soundfile\n",
        "from sklearn.model_selection import train_test_split"
      ],
      "execution_count": 4,
      "outputs": []
    },
    {
      "cell_type": "code",
      "metadata": {
        "id": "-CDf3bUz9fKb"
      },
      "source": [
        "def extract_feature(file_name,mfcc,chroma,mel,zcr,rmse):\n",
        "    with soundfile.SoundFile(file_name) as sound_file:\n",
        "        X = sound_file.read(dtype=\"float32\")\n",
        "        sample_rate=sound_file.samplerate\n",
        "        stft=np.abs(librosa.stft(X))\n",
        "        result=np.array([])\n",
        "        if mfcc:\n",
        "            mfccs=np.mean(librosa.feature.mfcc(y=X, sr=sample_rate, n_mfcc=40).T,axis=0)\n",
        "            result=np.hstack((result, mfccs))\n",
        "        if chroma:\n",
        "            chroma=np.mean(librosa.feature.chroma_stft(S=stft, sr=sample_rate).T,axis=0)\n",
        "            result=np.hstack((result, chroma))\n",
        "        if mel:\n",
        "            mel=np.mean(librosa.feature.melspectrogram(X, sr=sample_rate).T,axis=0)\n",
        "            result=np.hstack((result, mel))\n",
        "        if zcr:\n",
        "            zcr=np.mean(librosa.feature.zero_crossing_rate(y=X, frame_length=2048, hop_length=512).T,axis=0)\n",
        "            result=np.hstack((result, zcr))\n",
        "        if rmse:\n",
        "            rmse=np.mean(librosa.feature.rms(S=stft,frame_length=2048, hop_length=512, pad_mode='reflect').T,axis=0)\n",
        "            result=np.hstack((result, rmse))\n",
        "    return result"
      ],
      "execution_count": 5,
      "outputs": []
    },
    {
      "cell_type": "code",
      "metadata": {
        "id": "w4kyg0J09jXJ"
      },
      "source": [
        "#Load the data and extract features for each sound file\n",
        "def load_data(test_size=0.2):\n",
        "    x,y=[],[]\n",
        "    for file in glob.glob(\"/content/drive/MyDrive/SAVEE dataset/Actor_*//*.wav\"):\n",
        "        file_name=os.path.basename(file)\n",
        "        emotion=file_name[0]\n",
        "        if emotion=='a':\n",
        "          e='anger'\n",
        "        if emotion=='d':\n",
        "          e='disgust'\n",
        "        if emotion=='f':\n",
        "          e='fear'\n",
        "        if emotion=='h':\n",
        "          e='happy'\n",
        "        if emotion=='n':\n",
        "          e='neutral'\n",
        "        if emotion=='s':\n",
        "          if file_name[1]=='a':\n",
        "            e='sad'\n",
        "          else:\n",
        "            e='surprise'\n",
        "        feature=extract_feature(file,mfcc=True,chroma=True,mel=True,zcr=True,rmse=True)\n",
        "        x.append(feature)\n",
        "        y.append(e)\n",
        "    return train_test_split(np.array(x), y, test_size=test_size)"
      ],
      "execution_count": 6,
      "outputs": []
    },
    {
      "cell_type": "code",
      "metadata": {
        "id": "iyHLDQWz9oEY"
      },
      "source": [
        "x_train,x_test,y_train,y_test=load_data(test_size=0.2)"
      ],
      "execution_count": 7,
      "outputs": []
    },
    {
      "cell_type": "code",
      "metadata": {
        "id": "Y6ubVAhz98In"
      },
      "source": [
        "from sklearn.model_selection import train_test_split\n",
        "from sklearn.neural_network import MLPClassifier\n",
        "from sklearn.metrics import accuracy_score"
      ],
      "execution_count": 8,
      "outputs": []
    },
    {
      "cell_type": "code",
      "metadata": {
        "colab": {
          "base_uri": "https://localhost:8080/"
        },
        "id": "Zm7Po81fAyFy",
        "outputId": "7f8137ed-63e3-4d4d-b4a2-5468c3b62dde"
      },
      "source": [
        "import time\n",
        "start = time.time()\n",
        "model=MLPClassifier(alpha=0.0001, batch_size=64, epsilon=1e-08, hidden_layer_sizes=(500,), learning_rate='constant',activation='logistic',solver='adam',max_iter=600)\n",
        "model.fit(x_train,y_train)\n",
        "end = time.time()\n",
        "train_time_total=end-start\n",
        "print(train_time_total)"
      ],
      "execution_count": 9,
      "outputs": [
        {
          "output_type": "stream",
          "text": [
            "12.027775049209595\n"
          ],
          "name": "stdout"
        }
      ]
    },
    {
      "cell_type": "code",
      "metadata": {
        "colab": {
          "base_uri": "https://localhost:8080/"
        },
        "id": "tAIZ5V7eA8xv",
        "outputId": "d43dbfb3-3a37-43d6-99e0-1714af5ae7b6"
      },
      "source": [
        "start = time.time()\n",
        "y_pred=model.predict(x_test)\n",
        "accuracy=accuracy_score(y_true=y_test, y_pred=y_pred)\n",
        "print(\"Logistic-Accuracy: {:.2f}%\".format(accuracy*100))\n",
        "from sklearn.metrics import classification_report\n",
        "print(classification_report(y_test,y_pred))\n",
        "end = time.time()\n",
        "test_time_total=end-start\n",
        "print(test_time_total)"
      ],
      "execution_count": 17,
      "outputs": [
        {
          "output_type": "stream",
          "text": [
            "Logistic-Accuracy: 76.04%\n",
            "              precision    recall  f1-score   support\n",
            "\n",
            "       anger       0.83      0.71      0.77        14\n",
            "     disgust       0.86      0.75      0.80        16\n",
            "        fear       0.33      0.50      0.40         8\n",
            "       happy       0.57      0.89      0.70         9\n",
            "     neutral       0.88      0.96      0.92        23\n",
            "         sad       0.90      0.82      0.86        11\n",
            "    surprise       0.89      0.53      0.67        15\n",
            "\n",
            "    accuracy                           0.76        96\n",
            "   macro avg       0.75      0.74      0.73        96\n",
            "weighted avg       0.80      0.76      0.77        96\n",
            "\n",
            "0.01269221305847168\n"
          ],
          "name": "stdout"
        }
      ]
    },
    {
      "cell_type": "code",
      "metadata": {
        "id": "nkyxxhfPBCDH"
      },
      "source": [
        "from sklearn.metrics import confusion_matrix\n",
        "cm = confusion_matrix(y_test,y_pred,normalize='true')\n",
        "conf_matrix= pd.DataFrame(cm,columns=None)\n",
        "conf_matrix.to_csv(r'E:\\confusion_matrix.csv', index = False, header=False)"
      ],
      "execution_count": 18,
      "outputs": []
    },
    {
      "cell_type": "code",
      "metadata": {
        "colab": {
          "base_uri": "https://localhost:8080/"
        },
        "id": "cYglwrG3BS5d",
        "outputId": "da339480-2e2a-49aa-d59c-3cb37ae048b2"
      },
      "source": [
        "from imblearn.metrics import specificity_score\n",
        "s=specificity_score(y_test,y_pred,average='macro')\n",
        "print(s)"
      ],
      "execution_count": 19,
      "outputs": [
        {
          "output_type": "stream",
          "text": [
            "0.9607898389487762\n"
          ],
          "name": "stdout"
        }
      ]
    },
    {
      "cell_type": "code",
      "metadata": {
        "colab": {
          "base_uri": "https://localhost:8080/"
        },
        "id": "T1jLZIxBBmE1",
        "outputId": "747dbbc0-5dc8-4bd4-ebab-3acc5112b719"
      },
      "source": [
        "from sklearn.metrics import roc_auc_score\n",
        "y_pred=model.predict_proba(x_test)\n",
        "auc=roc_auc_score(y_test, y_pred, average='macro',multi_class='ovo')\n",
        "print(auc)"
      ],
      "execution_count": 20,
      "outputs": [
        {
          "output_type": "stream",
          "text": [
            "0.9568910733393782\n"
          ],
          "name": "stdout"
        }
      ]
    },
    {
      "cell_type": "code",
      "metadata": {
        "colab": {
          "base_uri": "https://localhost:8080/"
        },
        "id": "RcYqgo3ABoXT",
        "outputId": "7289e49f-f9e5-4333-d2bb-7b1ed7840266"
      },
      "source": [
        "from sklearn.metrics import precision_score\n",
        "from sklearn.metrics import recall_score\n",
        "from sklearn.metrics import f1_score\n",
        "y_pred=model.predict(x_test)\n",
        "p=precision_score(y_test, y_pred,average='macro')\n",
        "r=recall_score(y_test, y_pred,average='macro')\n",
        "f=f1_score(y_test, y_pred,average='macro')\n",
        "print(p,r,f)"
      ],
      "execution_count": 21,
      "outputs": [
        {
          "output_type": "stream",
          "text": [
            "0.7520181405895691 0.7373159276885985 0.7293370190885718\n"
          ],
          "name": "stdout"
        }
      ]
    },
    {
      "cell_type": "code",
      "metadata": {
        "colab": {
          "base_uri": "https://localhost:8080/"
        },
        "id": "tMUKafWTBs2j",
        "outputId": "a87faaa8-288b-4a19-a18a-778eb7e9718a"
      },
      "source": [
        "FP = cm.sum(axis=0) - np.diag(cm)  \n",
        "FN = cm.sum(axis=1) - np.diag(cm)\n",
        "TP = np.diag(cm)\n",
        "TN = cm.sum() - (FP + FN + TP)\n",
        "\n",
        "FP = FP.astype(float)\n",
        "FN = FN.astype(float)\n",
        "TP = TP.astype(float)\n",
        "TN = TN.astype(float)\n",
        "\n",
        "# Sensitivity, hit rate, recall, or true positive rate\n",
        "TPR = TP/(TP+FN)\n",
        "# Fall out or false positive rate\n",
        "FPR = FP/(FP+TN)\n",
        "print(TPR)\n",
        "print(FPR)"
      ],
      "execution_count": 22,
      "outputs": [
        {
          "output_type": "stream",
          "text": [
            "[0.71428571 0.75       0.5        0.88888889 0.95652174 0.81818182\n",
            " 0.53333333]\n",
            "[0.02962963 0.02807971 0.09382215 0.08769841 0.03598485 0.01041667\n",
            " 0.02083333]\n"
          ],
          "name": "stdout"
        }
      ]
    },
    {
      "cell_type": "code",
      "metadata": {
        "colab": {
          "base_uri": "https://localhost:8080/"
        },
        "id": "f-EYP7PwBvub",
        "outputId": "da79172a-58b5-4e91-a6a4-dda161ff77f9"
      },
      "source": [
        "from pandas import DataFrame\n",
        "C = {\n",
        "     'test acc':[str(accuracy)],\n",
        "     'precision(macro)':[str(p)],\n",
        "     'recall(macro)':[str(r)],\n",
        "     'f1(macro)':[str(f)],\n",
        "     'specificity(macro)':[str(s)],\n",
        "     'AUC(macro)':[str(auc)],\n",
        "     'total train time':[str(train_time_total)],\n",
        "     'total test time':[str(test_time_total)]}\n",
        "df = DataFrame(C, columns= ['test acc','precision(macro)','recall(macro)','f1(macro)','specificity(macro)','AUC(macro)','total train time','total test time'])\n",
        "export_csv = df.to_csv (r'E:\\result2.csv', index = None, header=True) \n",
        "print (df)"
      ],
      "execution_count": 26,
      "outputs": [
        {
          "output_type": "stream",
          "text": [
            "             test acc  ...      total test time\n",
            "0  0.7604166666666666  ...  0.01269221305847168\n",
            "\n",
            "[1 rows x 8 columns]\n"
          ],
          "name": "stdout"
        }
      ]
    },
    {
      "cell_type": "code",
      "metadata": {
        "colab": {
          "base_uri": "https://localhost:8080/"
        },
        "id": "zbl1gZ0eB5dz",
        "outputId": "b487533e-38fb-4911-e553-4013081b0bba"
      },
      "source": [
        "from pandas import DataFrame\n",
        "C = {\n",
        "     'TPR': TPR,\n",
        "     'FPR': FPR}\n",
        "df = DataFrame(C, columns= ['TPR','FPR'])\n",
        "export_csv = df.to_csv (r'E:\\result3.csv', index = None, header=True) \n",
        "print (df)"
      ],
      "execution_count": 27,
      "outputs": [
        {
          "output_type": "stream",
          "text": [
            "        TPR       FPR\n",
            "0  0.714286  0.029630\n",
            "1  0.750000  0.028080\n",
            "2  0.500000  0.093822\n",
            "3  0.888889  0.087698\n",
            "4  0.956522  0.035985\n",
            "5  0.818182  0.010417\n",
            "6  0.533333  0.020833\n"
          ],
          "name": "stdout"
        }
      ]
    }
  ]
}