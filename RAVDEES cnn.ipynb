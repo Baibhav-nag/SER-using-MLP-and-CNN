{
  "nbformat": 4,
  "nbformat_minor": 0,
  "metadata": {
    "colab": {
      "name": "cnn_fs1.ipynb",
      "provenance": []
    },
    "kernelspec": {
      "name": "python3",
      "display_name": "Python 3"
    },
    "language_info": {
      "name": "python"
    }
  },
  "cells": [
    {
      "cell_type": "code",
      "metadata": {
        "id": "f9fZkaATGtB0"
      },
      "source": [
        "import librosa\n",
        "import os\n",
        "import pandas as pd\n",
        "import glob\n",
        "import numpy as np\n",
        "import soundfile\n",
        "from sklearn.model_selection import train_test_split"
      ],
      "execution_count": 6,
      "outputs": []
    },
    {
      "cell_type": "code",
      "metadata": {
        "id": "I3cfrMGLHX_N"
      },
      "source": [
        "def extract_feature(file_name,mfcc,chroma,mel,zcr,rmse):\n",
        "    with soundfile.SoundFile(file_name) as sound_file:\n",
        "        X = sound_file.read(dtype=\"float32\")\n",
        "        sample_rate=sound_file.samplerate\n",
        "        stft=np.abs(librosa.stft(X))\n",
        "        result=np.array([])\n",
        "        if mfcc:\n",
        "            mfccs=np.mean(librosa.feature.mfcc(y=X, sr=sample_rate, n_mfcc=40).T,axis=0)\n",
        "            result=np.hstack((result, mfccs))\n",
        "        if chroma:\n",
        "            chroma=np.mean(librosa.feature.chroma_stft(S=stft, sr=sample_rate).T,axis=0)\n",
        "            result=np.hstack((result, chroma))\n",
        "        if mel:\n",
        "            mel=np.mean(librosa.feature.melspectrogram(X, sr=sample_rate).T,axis=0)\n",
        "            result=np.hstack((result, mel))\n",
        "        if zcr:\n",
        "            zcr=np.mean(librosa.feature.zero_crossing_rate(y=X, frame_length=2048, hop_length=512).T,axis=0)\n",
        "            result=np.hstack((result, zcr))\n",
        "        if rmse:\n",
        "            rmse=np.mean(librosa.feature.rms(S=stft,frame_length=2048, hop_length=512, pad_mode='reflect').T,axis=0)\n",
        "            result=np.hstack((result, rmse))\n",
        "    return result"
      ],
      "execution_count": 7,
      "outputs": []
    },
    {
      "cell_type": "code",
      "metadata": {
        "id": "tYiFM5gyHhr0"
      },
      "source": [
        "emotions={\n",
        "  '01':'neutral',\n",
        "  '02':'calm',\n",
        "  '03':'happy',\n",
        "  '04':'sad',\n",
        "  '05':'angry',\n",
        "  '06':'fearful',\n",
        "  '07':'disgust',\n",
        "  '08':'surprised'\n",
        "}\n",
        "\n",
        "#Emotions to observe\n",
        "observed_emotions=['calm', 'happy', 'fearful', 'disgust','neutral','surprised','sad','angry']"
      ],
      "execution_count": 8,
      "outputs": []
    },
    {
      "cell_type": "code",
      "metadata": {
        "id": "V8O9GnzoHnfz"
      },
      "source": [
        "#Load the data and extract features for each sound file\n",
        "def load_data(test_size=0.2):\n",
        "    x,y=[],[]\n",
        "    for file in glob.glob(\"/content/drive/MyDrive/RAVDEES dataset/Actor_*//*.wav\"):\n",
        "        file_name=os.path.basename(file)\n",
        "        emotion=emotions[file_name.split(\"-\")[2]]\n",
        "        if emotion not in observed_emotions:\n",
        "            continue\n",
        "        feature=extract_feature(file, mfcc=True, chroma=True,mel=True, zcr=True, rmse=True)\n",
        "        x.append(feature)\n",
        "        y.append(emotion)\n",
        "    return train_test_split(np.array(x), y, test_size=test_size)"
      ],
      "execution_count": 11,
      "outputs": []
    },
    {
      "cell_type": "code",
      "metadata": {
        "colab": {
          "base_uri": "https://localhost:8080/"
        },
        "id": "YCJt9ARrHqTM",
        "outputId": "16406cbf-1f80-4f64-ed55-c6159c879f61"
      },
      "source": [
        "x_train,x_test,y_train,y_test=load_data(test_size=0.2)\n",
        "x_train.shape,x_test.shape"
      ],
      "execution_count": 12,
      "outputs": [
        {
          "output_type": "execute_result",
          "data": {
            "text/plain": [
              "((1152, 182), (288, 182))"
            ]
          },
          "metadata": {
            "tags": []
          },
          "execution_count": 12
        }
      ]
    },
    {
      "cell_type": "code",
      "metadata": {
        "id": "JnPU9pyjKYrq"
      },
      "source": [
        "import librosa\n",
        "%matplotlib inline\n",
        "import matplotlib.pyplot as plt\n",
        "import librosa.display\n",
        "from IPython.display import Audio\n",
        "import numpy as np\n",
        "import tensorflow as tf\n",
        "from matplotlib.pyplot import specgram\n",
        "import pandas as pd\n",
        "from sklearn.metrics import confusion_matrix\n",
        "import IPython.display as ipd  # To play sound in the notebook\n",
        "import os # interface with underlying OS that python is running on\n",
        "import sys\n",
        "import warnings\n",
        "# ignore warnings \n",
        "if not sys.warnoptions:\n",
        "    warnings.simplefilter(\"ignore\")\n",
        "warnings.filterwarnings(\"ignore\", category=DeprecationWarning)\n",
        "from sklearn.model_selection import train_test_split\n",
        "from sklearn.preprocessing import LabelEncoder\n",
        "import tensorflow.keras\n",
        "from tensorflow.keras.models import Sequential\n",
        "from tensorflow.keras.layers import Conv1D, MaxPooling1D, AveragePooling1D\n",
        "from tensorflow.keras.layers import Input, Flatten, Dropout, Activation, BatchNormalization, Dense\n",
        "from tensorflow.keras.wrappers.scikit_learn import KerasClassifier\n",
        "from tensorflow.keras.optimizers import SGD\n",
        "from tensorflow.keras.regularizers import l2\n",
        "import seaborn as sns\n",
        "from tensorflow.keras.utils import to_categorical\n",
        "from sklearn.metrics import classification_report"
      ],
      "execution_count": 13,
      "outputs": []
    },
    {
      "cell_type": "code",
      "metadata": {
        "id": "tMgPUI4IKgbM"
      },
      "source": [
        "y_train=np.array(y_train)\n",
        "y_test=np.array(y_test)"
      ],
      "execution_count": 14,
      "outputs": []
    },
    {
      "cell_type": "code",
      "metadata": {
        "id": "1sJOgcF5Ki5N"
      },
      "source": [
        "# ONE HOT ENCODE THE TARGET\n",
        "# CNN REQUIRES INPUT AND OUTPUT ARE NUMBERS\n",
        "lb = LabelEncoder()\n",
        "y_train = to_categorical(lb.fit_transform(y_train))\n",
        "y_test = to_categorical(lb.fit_transform(y_test))"
      ],
      "execution_count": 15,
      "outputs": []
    },
    {
      "cell_type": "code",
      "metadata": {
        "colab": {
          "base_uri": "https://localhost:8080/"
        },
        "id": "pxzzGDXHKlfV",
        "outputId": "d9f7d63a-1bc7-408b-9023-46690fe89781"
      },
      "source": [
        "# RESHAPE DATA TO INCLUDE 3D TENSOR \n",
        "x_train = x_train[:,:,np.newaxis]\n",
        "x_test = x_test[:,:,np.newaxis]\n",
        "x_train.shape"
      ],
      "execution_count": 16,
      "outputs": [
        {
          "output_type": "execute_result",
          "data": {
            "text/plain": [
              "(1152, 182, 1)"
            ]
          },
          "metadata": {
            "tags": []
          },
          "execution_count": 16
        }
      ]
    },
    {
      "cell_type": "code",
      "metadata": {
        "colab": {
          "base_uri": "https://localhost:8080/"
        },
        "id": "GeOHeNSqKn20",
        "outputId": "4356f12f-96d6-4696-bd06-2a435564b735"
      },
      "source": [
        "import tensorflow as tf\n",
        "from tensorflow import keras\n",
        "from tensorflow.keras import layers\n",
        "from tensorflow.keras.models import Sequential, load_model\n",
        "\n",
        "#BUILD 1D CNN LAYERS\n",
        "model = tf.keras.Sequential()\n",
        "model.add(layers.Conv1D(64, kernel_size=(10), activation='relu', input_shape=(x_train.shape[1],1)))\n",
        "model.add(layers.Conv1D(128, kernel_size=(10),activation='relu',kernel_regularizer=l2(0.01), bias_regularizer=l2(0.01)))\n",
        "model.add(layers.MaxPooling1D(pool_size=(8)))\n",
        "model.add(layers.Dropout(0.4))\n",
        "model.add(layers.Conv1D(128, kernel_size=(10),activation='relu'))\n",
        "model.add(layers.MaxPooling1D(pool_size=(8)))\n",
        "model.add(layers.Dropout(0.4))\n",
        "model.add(layers.Flatten())\n",
        "model.add(layers.Dense(256, activation='relu'))\n",
        "model.add(layers.Dropout(0.5))\n",
        "model.add(layers.Dense(8, activation='sigmoid'))\n",
        "opt = keras.optimizers.Adam(lr=0.001)\n",
        "model.compile(loss='categorical_crossentropy', optimizer=opt,metrics=['accuracy'])\n",
        "model.summary()"
      ],
      "execution_count": 17,
      "outputs": [
        {
          "output_type": "stream",
          "text": [
            "Model: \"sequential\"\n",
            "_________________________________________________________________\n",
            "Layer (type)                 Output Shape              Param #   \n",
            "=================================================================\n",
            "conv1d (Conv1D)              (None, 173, 64)           704       \n",
            "_________________________________________________________________\n",
            "conv1d_1 (Conv1D)            (None, 164, 128)          82048     \n",
            "_________________________________________________________________\n",
            "max_pooling1d (MaxPooling1D) (None, 20, 128)           0         \n",
            "_________________________________________________________________\n",
            "dropout (Dropout)            (None, 20, 128)           0         \n",
            "_________________________________________________________________\n",
            "conv1d_2 (Conv1D)            (None, 11, 128)           163968    \n",
            "_________________________________________________________________\n",
            "max_pooling1d_1 (MaxPooling1 (None, 1, 128)            0         \n",
            "_________________________________________________________________\n",
            "dropout_1 (Dropout)          (None, 1, 128)            0         \n",
            "_________________________________________________________________\n",
            "flatten (Flatten)            (None, 128)               0         \n",
            "_________________________________________________________________\n",
            "dense (Dense)                (None, 256)               33024     \n",
            "_________________________________________________________________\n",
            "dropout_2 (Dropout)          (None, 256)               0         \n",
            "_________________________________________________________________\n",
            "dense_1 (Dense)              (None, 8)                 2056      \n",
            "=================================================================\n",
            "Total params: 281,800\n",
            "Trainable params: 281,800\n",
            "Non-trainable params: 0\n",
            "_________________________________________________________________\n"
          ],
          "name": "stdout"
        }
      ]
    },
    {
      "cell_type": "code",
      "metadata": {
        "colab": {
          "base_uri": "https://localhost:8080/"
        },
        "id": "lELR2x6pKsdt",
        "outputId": "9d1fc048-87e7-4bcc-c2c4-2634edfe0b74"
      },
      "source": [
        "import tensorflow.keras as keras\n",
        "model_history=model.fit(x_train, y_train,batch_size=32, epochs=100, validation_data=(x_test, y_test))"
      ],
      "execution_count": 18,
      "outputs": [
        {
          "output_type": "stream",
          "text": [
            "Epoch 1/100\n",
            "36/36 [==============================] - 5s 110ms/step - loss: 3.2277 - accuracy: 0.1336 - val_loss: 2.5587 - val_accuracy: 0.3090\n",
            "Epoch 2/100\n",
            "36/36 [==============================] - 3s 97ms/step - loss: 2.6402 - accuracy: 0.1943 - val_loss: 2.3817 - val_accuracy: 0.2361\n",
            "Epoch 3/100\n",
            "36/36 [==============================] - 3s 97ms/step - loss: 2.3988 - accuracy: 0.1880 - val_loss: 2.1301 - val_accuracy: 0.3403\n",
            "Epoch 4/100\n",
            "36/36 [==============================] - 3s 97ms/step - loss: 2.2443 - accuracy: 0.2265 - val_loss: 2.0319 - val_accuracy: 0.3056\n",
            "Epoch 5/100\n",
            "36/36 [==============================] - 3s 97ms/step - loss: 2.1454 - accuracy: 0.2071 - val_loss: 1.9188 - val_accuracy: 0.3368\n",
            "Epoch 6/100\n",
            "36/36 [==============================] - 4s 98ms/step - loss: 2.0342 - accuracy: 0.2673 - val_loss: 1.8308 - val_accuracy: 0.3750\n",
            "Epoch 7/100\n",
            "36/36 [==============================] - 4s 99ms/step - loss: 1.9507 - accuracy: 0.2822 - val_loss: 1.8052 - val_accuracy: 0.3368\n",
            "Epoch 8/100\n",
            "36/36 [==============================] - 4s 98ms/step - loss: 1.9620 - accuracy: 0.2701 - val_loss: 1.7337 - val_accuracy: 0.4201\n",
            "Epoch 9/100\n",
            "36/36 [==============================] - 4s 98ms/step - loss: 1.8722 - accuracy: 0.2874 - val_loss: 1.7331 - val_accuracy: 0.3507\n",
            "Epoch 10/100\n",
            "36/36 [==============================] - 4s 98ms/step - loss: 1.8880 - accuracy: 0.3128 - val_loss: 1.6791 - val_accuracy: 0.4132\n",
            "Epoch 11/100\n",
            "36/36 [==============================] - 4s 98ms/step - loss: 1.8111 - accuracy: 0.3280 - val_loss: 1.7319 - val_accuracy: 0.3611\n",
            "Epoch 12/100\n",
            "36/36 [==============================] - 4s 99ms/step - loss: 1.8243 - accuracy: 0.3127 - val_loss: 1.6182 - val_accuracy: 0.4583\n",
            "Epoch 13/100\n",
            "36/36 [==============================] - 4s 110ms/step - loss: 1.7569 - accuracy: 0.3471 - val_loss: 1.6621 - val_accuracy: 0.4236\n",
            "Epoch 14/100\n",
            "36/36 [==============================] - 4s 114ms/step - loss: 1.8185 - accuracy: 0.3596 - val_loss: 1.6106 - val_accuracy: 0.4549\n",
            "Epoch 15/100\n",
            "36/36 [==============================] - 4s 118ms/step - loss: 1.7407 - accuracy: 0.3635 - val_loss: 1.5924 - val_accuracy: 0.4201\n",
            "Epoch 16/100\n",
            "36/36 [==============================] - 5s 126ms/step - loss: 1.7408 - accuracy: 0.3492 - val_loss: 1.5767 - val_accuracy: 0.4340\n",
            "Epoch 17/100\n",
            "36/36 [==============================] - 4s 119ms/step - loss: 1.6782 - accuracy: 0.3836 - val_loss: 1.5707 - val_accuracy: 0.4618\n",
            "Epoch 18/100\n",
            "36/36 [==============================] - 4s 98ms/step - loss: 1.7151 - accuracy: 0.3453 - val_loss: 1.5549 - val_accuracy: 0.4757\n",
            "Epoch 19/100\n",
            "36/36 [==============================] - 4s 99ms/step - loss: 1.6438 - accuracy: 0.4289 - val_loss: 1.5416 - val_accuracy: 0.4688\n",
            "Epoch 20/100\n",
            "36/36 [==============================] - 4s 98ms/step - loss: 1.7412 - accuracy: 0.3551 - val_loss: 1.5195 - val_accuracy: 0.4792\n",
            "Epoch 21/100\n",
            "36/36 [==============================] - 4s 99ms/step - loss: 1.7011 - accuracy: 0.3715 - val_loss: 1.5395 - val_accuracy: 0.4618\n",
            "Epoch 22/100\n",
            "36/36 [==============================] - 4s 99ms/step - loss: 1.6622 - accuracy: 0.3870 - val_loss: 1.5066 - val_accuracy: 0.4896\n",
            "Epoch 23/100\n",
            "36/36 [==============================] - 4s 99ms/step - loss: 1.6246 - accuracy: 0.4321 - val_loss: 1.5119 - val_accuracy: 0.4861\n",
            "Epoch 24/100\n",
            "36/36 [==============================] - 4s 99ms/step - loss: 1.6483 - accuracy: 0.3974 - val_loss: 1.5166 - val_accuracy: 0.4549\n",
            "Epoch 25/100\n",
            "36/36 [==============================] - 4s 99ms/step - loss: 1.5446 - accuracy: 0.4643 - val_loss: 1.4794 - val_accuracy: 0.5104\n",
            "Epoch 26/100\n",
            "36/36 [==============================] - 4s 98ms/step - loss: 1.5458 - accuracy: 0.4400 - val_loss: 1.4833 - val_accuracy: 0.4896\n",
            "Epoch 27/100\n",
            "36/36 [==============================] - 4s 99ms/step - loss: 1.5675 - accuracy: 0.4537 - val_loss: 1.5045 - val_accuracy: 0.5104\n",
            "Epoch 28/100\n",
            "36/36 [==============================] - 4s 98ms/step - loss: 1.5715 - accuracy: 0.4413 - val_loss: 1.4379 - val_accuracy: 0.5104\n",
            "Epoch 29/100\n",
            "36/36 [==============================] - 4s 99ms/step - loss: 1.5078 - accuracy: 0.5033 - val_loss: 1.4748 - val_accuracy: 0.5139\n",
            "Epoch 30/100\n",
            "36/36 [==============================] - 4s 99ms/step - loss: 1.4916 - accuracy: 0.4953 - val_loss: 1.4319 - val_accuracy: 0.5382\n",
            "Epoch 31/100\n",
            "36/36 [==============================] - 4s 99ms/step - loss: 1.5273 - accuracy: 0.4654 - val_loss: 1.3991 - val_accuracy: 0.5347\n",
            "Epoch 32/100\n",
            "36/36 [==============================] - 4s 99ms/step - loss: 1.4737 - accuracy: 0.4992 - val_loss: 1.4468 - val_accuracy: 0.5069\n",
            "Epoch 33/100\n",
            "36/36 [==============================] - 4s 98ms/step - loss: 1.4779 - accuracy: 0.4974 - val_loss: 1.4192 - val_accuracy: 0.5521\n",
            "Epoch 34/100\n",
            "36/36 [==============================] - 4s 99ms/step - loss: 1.5169 - accuracy: 0.4605 - val_loss: 1.4140 - val_accuracy: 0.5000\n",
            "Epoch 35/100\n",
            "36/36 [==============================] - 4s 99ms/step - loss: 1.5182 - accuracy: 0.4695 - val_loss: 1.4273 - val_accuracy: 0.5104\n",
            "Epoch 36/100\n",
            "36/36 [==============================] - 4s 100ms/step - loss: 1.4606 - accuracy: 0.5048 - val_loss: 1.4597 - val_accuracy: 0.5069\n",
            "Epoch 37/100\n",
            "36/36 [==============================] - 4s 98ms/step - loss: 1.5227 - accuracy: 0.4612 - val_loss: 1.3922 - val_accuracy: 0.5451\n",
            "Epoch 38/100\n",
            "36/36 [==============================] - 4s 99ms/step - loss: 1.3940 - accuracy: 0.5159 - val_loss: 1.3844 - val_accuracy: 0.5590\n",
            "Epoch 39/100\n",
            "36/36 [==============================] - 4s 98ms/step - loss: 1.3943 - accuracy: 0.5080 - val_loss: 1.3662 - val_accuracy: 0.5521\n",
            "Epoch 40/100\n",
            "36/36 [==============================] - 4s 98ms/step - loss: 1.4146 - accuracy: 0.5337 - val_loss: 1.3405 - val_accuracy: 0.5729\n",
            "Epoch 41/100\n",
            "36/36 [==============================] - 4s 99ms/step - loss: 1.3559 - accuracy: 0.5560 - val_loss: 1.3483 - val_accuracy: 0.5799\n",
            "Epoch 42/100\n",
            "36/36 [==============================] - 4s 98ms/step - loss: 1.3026 - accuracy: 0.5652 - val_loss: 1.3641 - val_accuracy: 0.5451\n",
            "Epoch 43/100\n",
            "36/36 [==============================] - 4s 99ms/step - loss: 1.3694 - accuracy: 0.5326 - val_loss: 1.3466 - val_accuracy: 0.5312\n",
            "Epoch 44/100\n",
            "36/36 [==============================] - 4s 98ms/step - loss: 1.4077 - accuracy: 0.5072 - val_loss: 1.3509 - val_accuracy: 0.5764\n",
            "Epoch 45/100\n",
            "36/36 [==============================] - 4s 98ms/step - loss: 1.2968 - accuracy: 0.5747 - val_loss: 1.2949 - val_accuracy: 0.5903\n",
            "Epoch 46/100\n",
            "36/36 [==============================] - 4s 98ms/step - loss: 1.3313 - accuracy: 0.5575 - val_loss: 1.4024 - val_accuracy: 0.5347\n",
            "Epoch 47/100\n",
            "36/36 [==============================] - 4s 98ms/step - loss: 1.3179 - accuracy: 0.5643 - val_loss: 1.3063 - val_accuracy: 0.5590\n",
            "Epoch 48/100\n",
            "36/36 [==============================] - 4s 99ms/step - loss: 1.3517 - accuracy: 0.5360 - val_loss: 1.4025 - val_accuracy: 0.5451\n",
            "Epoch 49/100\n",
            "36/36 [==============================] - 4s 98ms/step - loss: 1.2464 - accuracy: 0.5824 - val_loss: 1.3521 - val_accuracy: 0.5764\n",
            "Epoch 50/100\n",
            "36/36 [==============================] - 4s 99ms/step - loss: 1.2208 - accuracy: 0.6204 - val_loss: 1.3246 - val_accuracy: 0.5938\n",
            "Epoch 51/100\n",
            "36/36 [==============================] - 4s 99ms/step - loss: 1.2135 - accuracy: 0.6231 - val_loss: 1.2886 - val_accuracy: 0.6042\n",
            "Epoch 52/100\n",
            "36/36 [==============================] - 4s 99ms/step - loss: 1.2561 - accuracy: 0.6149 - val_loss: 1.3543 - val_accuracy: 0.6007\n",
            "Epoch 53/100\n",
            "36/36 [==============================] - 4s 98ms/step - loss: 1.3219 - accuracy: 0.5618 - val_loss: 1.2956 - val_accuracy: 0.6146\n",
            "Epoch 54/100\n",
            "36/36 [==============================] - 4s 98ms/step - loss: 1.2920 - accuracy: 0.5906 - val_loss: 1.2979 - val_accuracy: 0.5903\n",
            "Epoch 55/100\n",
            "36/36 [==============================] - 4s 99ms/step - loss: 1.2257 - accuracy: 0.6084 - val_loss: 1.2799 - val_accuracy: 0.5972\n",
            "Epoch 56/100\n",
            "36/36 [==============================] - 4s 98ms/step - loss: 1.1804 - accuracy: 0.6255 - val_loss: 1.3109 - val_accuracy: 0.6111\n",
            "Epoch 57/100\n",
            "36/36 [==============================] - 4s 98ms/step - loss: 1.1753 - accuracy: 0.6504 - val_loss: 1.3301 - val_accuracy: 0.5903\n",
            "Epoch 58/100\n",
            "36/36 [==============================] - 4s 99ms/step - loss: 1.3760 - accuracy: 0.6250 - val_loss: 1.3801 - val_accuracy: 0.5625\n",
            "Epoch 59/100\n",
            "36/36 [==============================] - 4s 99ms/step - loss: 1.2420 - accuracy: 0.6169 - val_loss: 1.2856 - val_accuracy: 0.6042\n",
            "Epoch 60/100\n",
            "36/36 [==============================] - 4s 98ms/step - loss: 1.2519 - accuracy: 0.6102 - val_loss: 1.3680 - val_accuracy: 0.5694\n",
            "Epoch 61/100\n",
            "36/36 [==============================] - 4s 100ms/step - loss: 1.1728 - accuracy: 0.6378 - val_loss: 1.3145 - val_accuracy: 0.5868\n",
            "Epoch 62/100\n",
            "36/36 [==============================] - 4s 98ms/step - loss: 1.1943 - accuracy: 0.6555 - val_loss: 1.2698 - val_accuracy: 0.6146\n",
            "Epoch 63/100\n",
            "36/36 [==============================] - 4s 99ms/step - loss: 1.1091 - accuracy: 0.6760 - val_loss: 1.2346 - val_accuracy: 0.6285\n",
            "Epoch 64/100\n",
            "36/36 [==============================] - 4s 99ms/step - loss: 1.1558 - accuracy: 0.6383 - val_loss: 1.2578 - val_accuracy: 0.6215\n",
            "Epoch 65/100\n",
            "36/36 [==============================] - 4s 99ms/step - loss: 1.0546 - accuracy: 0.6714 - val_loss: 1.2953 - val_accuracy: 0.5903\n",
            "Epoch 66/100\n",
            "36/36 [==============================] - 4s 99ms/step - loss: 1.0612 - accuracy: 0.6674 - val_loss: 1.2933 - val_accuracy: 0.6250\n",
            "Epoch 67/100\n",
            "36/36 [==============================] - 4s 99ms/step - loss: 1.1179 - accuracy: 0.6607 - val_loss: 1.2952 - val_accuracy: 0.5868\n",
            "Epoch 68/100\n",
            "36/36 [==============================] - 4s 99ms/step - loss: 1.0902 - accuracy: 0.6527 - val_loss: 1.3977 - val_accuracy: 0.5938\n",
            "Epoch 69/100\n",
            "36/36 [==============================] - 4s 99ms/step - loss: 1.1257 - accuracy: 0.6665 - val_loss: 1.2568 - val_accuracy: 0.6250\n",
            "Epoch 70/100\n",
            "36/36 [==============================] - 4s 98ms/step - loss: 1.0654 - accuracy: 0.6904 - val_loss: 1.2917 - val_accuracy: 0.6250\n",
            "Epoch 71/100\n",
            "36/36 [==============================] - 4s 99ms/step - loss: 1.0230 - accuracy: 0.7282 - val_loss: 1.3050 - val_accuracy: 0.5903\n",
            "Epoch 72/100\n",
            "36/36 [==============================] - 4s 99ms/step - loss: 1.0523 - accuracy: 0.6879 - val_loss: 1.2459 - val_accuracy: 0.6076\n",
            "Epoch 73/100\n",
            "36/36 [==============================] - 4s 99ms/step - loss: 1.0282 - accuracy: 0.7148 - val_loss: 1.3103 - val_accuracy: 0.6181\n",
            "Epoch 74/100\n",
            "36/36 [==============================] - 4s 99ms/step - loss: 1.0149 - accuracy: 0.7242 - val_loss: 1.3371 - val_accuracy: 0.6111\n",
            "Epoch 75/100\n",
            "36/36 [==============================] - 4s 100ms/step - loss: 1.1176 - accuracy: 0.6833 - val_loss: 1.2862 - val_accuracy: 0.6215\n",
            "Epoch 76/100\n",
            "36/36 [==============================] - 4s 98ms/step - loss: 1.0299 - accuracy: 0.7065 - val_loss: 1.2354 - val_accuracy: 0.6285\n",
            "Epoch 77/100\n",
            "36/36 [==============================] - 4s 98ms/step - loss: 0.9926 - accuracy: 0.7198 - val_loss: 1.2530 - val_accuracy: 0.6493\n",
            "Epoch 78/100\n",
            "36/36 [==============================] - 4s 100ms/step - loss: 0.9557 - accuracy: 0.7174 - val_loss: 1.2734 - val_accuracy: 0.5868\n",
            "Epoch 79/100\n",
            "36/36 [==============================] - 4s 99ms/step - loss: 0.9669 - accuracy: 0.7198 - val_loss: 1.2677 - val_accuracy: 0.6111\n",
            "Epoch 80/100\n",
            "36/36 [==============================] - 4s 100ms/step - loss: 0.9669 - accuracy: 0.7432 - val_loss: 1.3518 - val_accuracy: 0.5833\n",
            "Epoch 81/100\n",
            "36/36 [==============================] - 4s 99ms/step - loss: 0.9951 - accuracy: 0.7222 - val_loss: 1.3357 - val_accuracy: 0.5938\n",
            "Epoch 82/100\n",
            "36/36 [==============================] - 4s 99ms/step - loss: 1.0411 - accuracy: 0.7364 - val_loss: 1.2946 - val_accuracy: 0.6319\n",
            "Epoch 83/100\n",
            "36/36 [==============================] - 4s 99ms/step - loss: 0.9261 - accuracy: 0.7340 - val_loss: 1.3344 - val_accuracy: 0.6146\n",
            "Epoch 84/100\n",
            "36/36 [==============================] - 4s 99ms/step - loss: 0.9390 - accuracy: 0.7252 - val_loss: 1.3158 - val_accuracy: 0.6285\n",
            "Epoch 85/100\n",
            "36/36 [==============================] - 4s 99ms/step - loss: 0.9199 - accuracy: 0.7438 - val_loss: 1.2255 - val_accuracy: 0.6528\n",
            "Epoch 86/100\n",
            "36/36 [==============================] - 4s 100ms/step - loss: 0.9133 - accuracy: 0.7377 - val_loss: 1.2477 - val_accuracy: 0.6389\n",
            "Epoch 87/100\n",
            "36/36 [==============================] - 4s 100ms/step - loss: 0.8800 - accuracy: 0.7675 - val_loss: 1.3211 - val_accuracy: 0.6319\n",
            "Epoch 88/100\n",
            "36/36 [==============================] - 4s 99ms/step - loss: 0.8823 - accuracy: 0.7770 - val_loss: 1.3462 - val_accuracy: 0.6076\n",
            "Epoch 89/100\n",
            "36/36 [==============================] - 4s 99ms/step - loss: 0.9321 - accuracy: 0.7391 - val_loss: 1.3022 - val_accuracy: 0.6146\n",
            "Epoch 90/100\n",
            "36/36 [==============================] - 4s 100ms/step - loss: 0.9659 - accuracy: 0.7219 - val_loss: 1.2970 - val_accuracy: 0.6389\n",
            "Epoch 91/100\n",
            "36/36 [==============================] - 4s 99ms/step - loss: 0.8997 - accuracy: 0.7494 - val_loss: 1.2762 - val_accuracy: 0.6111\n",
            "Epoch 92/100\n",
            "36/36 [==============================] - 4s 100ms/step - loss: 0.9311 - accuracy: 0.7609 - val_loss: 1.3300 - val_accuracy: 0.6354\n",
            "Epoch 93/100\n",
            "36/36 [==============================] - 4s 100ms/step - loss: 0.9206 - accuracy: 0.7755 - val_loss: 1.3071 - val_accuracy: 0.6111\n",
            "Epoch 94/100\n",
            "36/36 [==============================] - 4s 98ms/step - loss: 0.8333 - accuracy: 0.7818 - val_loss: 1.3569 - val_accuracy: 0.5972\n",
            "Epoch 95/100\n",
            "36/36 [==============================] - 4s 100ms/step - loss: 0.8634 - accuracy: 0.7717 - val_loss: 1.3030 - val_accuracy: 0.6319\n",
            "Epoch 96/100\n",
            "36/36 [==============================] - 4s 99ms/step - loss: 0.7833 - accuracy: 0.8108 - val_loss: 1.3121 - val_accuracy: 0.6076\n",
            "Epoch 97/100\n",
            "36/36 [==============================] - 4s 99ms/step - loss: 0.8434 - accuracy: 0.7882 - val_loss: 1.2928 - val_accuracy: 0.6424\n",
            "Epoch 98/100\n",
            "36/36 [==============================] - 4s 99ms/step - loss: 0.8600 - accuracy: 0.7901 - val_loss: 1.2901 - val_accuracy: 0.6146\n",
            "Epoch 99/100\n",
            "36/36 [==============================] - 4s 100ms/step - loss: 0.8833 - accuracy: 0.7604 - val_loss: 1.2920 - val_accuracy: 0.6354\n",
            "Epoch 100/100\n",
            "36/36 [==============================] - 4s 100ms/step - loss: 0.8637 - accuracy: 0.7884 - val_loss: 1.2954 - val_accuracy: 0.6111\n"
          ],
          "name": "stdout"
        }
      ]
    },
    {
      "cell_type": "code",
      "metadata": {
        "colab": {
          "base_uri": "https://localhost:8080/"
        },
        "id": "kLNZ-LkyMIIW",
        "outputId": "9c9c730e-b04c-4843-b0cc-47313dc4b4ac"
      },
      "source": [
        "# PRINT LOSS AND ACCURACY PERCENTAGE ON TEST SET\n",
        "print(\"Loss of the model is - \" , model.evaluate(x_test,y_test)[0])\n",
        "print(\"Accuracy of the model is - \" , model.evaluate(x_test,y_test)[1]*100 , \"%\")"
      ],
      "execution_count": 19,
      "outputs": [
        {
          "output_type": "stream",
          "text": [
            "9/9 [==============================] - 0s 21ms/step - loss: 1.2954 - accuracy: 0.6111\n",
            "Loss of the model is -  1.2953898906707764\n",
            "9/9 [==============================] - 0s 21ms/step - loss: 1.2954 - accuracy: 0.6111\n",
            "Accuracy of the model is -  61.11111044883728 %\n"
          ],
          "name": "stdout"
        }
      ]
    },
    {
      "cell_type": "code",
      "metadata": {
        "colab": {
          "base_uri": "https://localhost:8080/",
          "height": 630
        },
        "id": "pOrgn-5uM6Bp",
        "outputId": "d0f444e0-9842-46ba-f7da-185c18b05893"
      },
      "source": [
        "predictions = model.predict(x_test)\n",
        "predictions = predictions.argmax(axis=1)\n",
        "predictions = predictions.astype(int).flatten()\n",
        "predictions = (lb.inverse_transform((predictions)))\n",
        "actual = y_test.argmax(axis=1)\n",
        "actual = actual.astype(int).flatten()\n",
        "actual = (lb.inverse_transform((actual)))\n",
        "cm = confusion_matrix(actual, predictions,normalize='true')\n",
        "plt.figure(figsize = (12, 10))\n",
        "conf_matrix= pd.DataFrame(cm,columns=None)\n",
        "conf_matrix.to_csv(r'E:\\confusion_matrix.csv', index = False, header=False)\n",
        "ax = sns.heatmap(cm, linecolor='white', cmap='Blues', linewidth=1, annot=True, fmt='')\n",
        "bottom, top = ax.get_ylim()\n",
        "ax.set_ylim(bottom + 0.5, top - 0.5)\n",
        "plt.title('Confusion Matrix', size=20)\n",
        "plt.xlabel('Predicted Labels', size=14)\n",
        "plt.ylabel('Actual Labels', size=14)\n",
        "plt.savefig('Initial_Model_Confusion_Matrix.png')\n",
        "plt.show()"
      ],
      "execution_count": 20,
      "outputs": [
        {
          "output_type": "display_data",
          "data": {
            "image/png": "[encoded data removed]",
            "text/plain": [
              "<Figure size 864x720 with 2 Axes>"
            ]
          },
          "metadata": {
            "tags": [],
            "needs_background": "light"
          }
        }
      ]
    },
    {
      "cell_type": "code",
      "metadata": {
        "colab": {
          "base_uri": "https://localhost:8080/"
        },
        "id": "l11VXuwiNDK4",
        "outputId": "e23c3e94-7044-4d70-a0bd-10725c43b8a1"
      },
      "source": [
        "print(classification_report(actual, predictions, target_names = ['angry','calm','disgust','fear','happy','neutral','sad','surprise']))"
      ],
      "execution_count": 21,
      "outputs": [
        {
          "output_type": "stream",
          "text": [
            "              precision    recall  f1-score   support\n",
            "\n",
            "       angry       0.82      0.77      0.80        48\n",
            "        calm       0.78      0.64      0.70        39\n",
            "     disgust       0.53      0.68      0.60        41\n",
            "        fear       0.57      0.64      0.60        44\n",
            "       happy       0.59      0.64      0.61        36\n",
            "     neutral       0.33      0.22      0.27        18\n",
            "         sad       0.38      0.28      0.32        29\n",
            "    surprise       0.62      0.70      0.66        33\n",
            "\n",
            "    accuracy                           0.61       288\n",
            "   macro avg       0.58      0.57      0.57       288\n",
            "weighted avg       0.61      0.61      0.61       288\n",
            "\n"
          ],
          "name": "stdout"
        }
      ]
    },
    {
      "cell_type": "code",
      "metadata": {
        "colab": {
          "base_uri": "https://localhost:8080/"
        },
        "id": "730wRiYgNDMF",
        "outputId": "533db54f-fbe4-4661-e2ba-b60cafd40ba0"
      },
      "source": [
        "from imblearn.metrics import specificity_score\n",
        "s=specificity_score(actual,predictions,average='macro')\n",
        "print(s)"
      ],
      "execution_count": 23,
      "outputs": [
        {
          "output_type": "stream",
          "text": [
            "0.944132170512392\n"
          ],
          "name": "stdout"
        }
      ]
    },
    {
      "cell_type": "code",
      "metadata": {
        "colab": {
          "base_uri": "https://localhost:8080/"
        },
        "id": "Mv1xhiL8NLhA",
        "outputId": "71887ae6-3cd2-421c-96b6-9a23d13fd677"
      },
      "source": [
        "from sklearn.metrics import roc_auc_score\n",
        "y_score=model.predict(x_test)\n",
        "auc=roc_auc_score(y_test, y_score, average='macro',multi_class='ovo')\n",
        "print(auc)"
      ],
      "execution_count": 24,
      "outputs": [
        {
          "output_type": "stream",
          "text": [
            "0.8816991404882899\n"
          ],
          "name": "stdout"
        }
      ]
    },
    {
      "cell_type": "code",
      "metadata": {
        "colab": {
          "base_uri": "https://localhost:8080/"
        },
        "id": "kLEaTol-NUMR",
        "outputId": "d89709b8-66a3-499c-d9f6-31ab8377d584"
      },
      "source": [
        "from sklearn.metrics import precision_score\n",
        "from sklearn.metrics import recall_score\n",
        "from sklearn.metrics import f1_score\n",
        "p=precision_score(actual,predictions,average='macro')\n",
        "r=recall_score(actual,predictions,average='macro')\n",
        "f=f1_score(actual,predictions,average='macro')\n",
        "print(p,r,f)"
      ],
      "execution_count": 25,
      "outputs": [
        {
          "output_type": "stream",
          "text": [
            "0.5786067007617716 0.5706365396296535 0.5693702940590235\n"
          ],
          "name": "stdout"
        }
      ]
    },
    {
      "cell_type": "code",
      "metadata": {
        "colab": {
          "base_uri": "https://localhost:8080/"
        },
        "id": "mzzwrkU0NXf9",
        "outputId": "d844e080-1733-483f-b707-2d129bad0248"
      },
      "source": [
        "FP = cm.sum(axis=0) - np.diag(cm)  \n",
        "FN = cm.sum(axis=1) - np.diag(cm)\n",
        "TP = np.diag(cm)\n",
        "TN = cm.sum() - (FP + FN + TP)\n",
        "\n",
        "FP = FP.astype(float)\n",
        "FN = FN.astype(float)\n",
        "TP = TP.astype(float)\n",
        "TN = TN.astype(float)\n",
        "\n",
        "# Sensitivity, hit rate, recall, or true positive rate\n",
        "TPR = TP/(TP+FN)\n",
        "# Fall out or false positive rate\n",
        "FPR = FP/(FP+TN)\n",
        "print(TPR)\n",
        "print(FPR)"
      ],
      "execution_count": 26,
      "outputs": [
        {
          "output_type": "stream",
          "text": [
            "[0.77083333 0.64102564 0.68292683 0.63636364 0.63888889 0.22222222\n",
            " 0.27586207 0.6969697 ]\n",
            "[0.02812973 0.04508257 0.11170367 0.09740981 0.06508244 0.03435645\n",
            " 0.05505606 0.05388037]\n"
          ],
          "name": "stdout"
        }
      ]
    },
    {
      "cell_type": "code",
      "metadata": {
        "id": "faKqgoVvNayo"
      },
      "source": [
        "l=[]\n",
        "for i in range(100):\n",
        "  l.append(i+1)"
      ],
      "execution_count": 27,
      "outputs": []
    },
    {
      "cell_type": "code",
      "metadata": {
        "colab": {
          "base_uri": "https://localhost:8080/"
        },
        "id": "-suchOtyNkNQ",
        "outputId": "0a150bf4-c3e2-40c9-9d67-2abc26ee0bcb"
      },
      "source": [
        "from pandas import DataFrame\n",
        "C = {'epoch no':l,\n",
        "    'acc train':model_history.history['accuracy'],\n",
        "    'acc val':model_history.history['val_accuracy'],\n",
        "    'loss train':model_history.history['loss'],\n",
        "    'loss val':model_history.history['val_loss']}\n",
        "df = DataFrame(C, columns= ['epoch no','acc train','acc val','loss train','loss val'])\n",
        "export_csv = df.to_csv (r'E:\\result1.csv', index = None, header=True) \n",
        "print (df)"
      ],
      "execution_count": 28,
      "outputs": [
        {
          "output_type": "stream",
          "text": [
            "    epoch no  acc train   acc val  loss train  loss val\n",
            "0          1   0.155382  0.309028    2.955658  2.558673\n",
            "1          2   0.194444  0.236111    2.556458  2.381740\n",
            "2          3   0.206597  0.340278    2.354466  2.130058\n",
            "3          4   0.221354  0.305556    2.206949  2.031869\n",
            "4          5   0.224826  0.336806    2.114163  1.918781\n",
            "..       ...        ...       ...         ...       ...\n",
            "95        96   0.783854  0.607639    0.861848  1.312053\n",
            "96        97   0.775174  0.642361    0.858188  1.292818\n",
            "97        98   0.769965  0.614583    0.882867  1.290072\n",
            "98        99   0.760417  0.635417    0.892559  1.292006\n",
            "99       100   0.786458  0.611111    0.873224  1.295390\n",
            "\n",
            "[100 rows x 5 columns]\n"
          ],
          "name": "stdout"
        }
      ]
    },
    {
      "cell_type": "code",
      "metadata": {
        "colab": {
          "base_uri": "https://localhost:8080/"
        },
        "id": "0Yd_FW0INn0Q",
        "outputId": "2e7be86c-b108-4566-bfc0-b0732c11a238"
      },
      "source": [
        "from pandas import DataFrame\n",
        "C = {\n",
        "     'train acc':[str(model_history.history['accuracy'][99])],\n",
        "     'test acc':[str(model_history.history['val_accuracy'][99])],\n",
        "     'precision(macro)':[str(p)],\n",
        "     'recall(macro)':[str(r)],\n",
        "     'f1(macro)':[str(f)],\n",
        "     'specificity(macro)':[str(s)],\n",
        "     'AUC(macro)':[str(auc)],\n",
        "     'train time per epoch':['4 sec'],\n",
        "     'test time per epoch':['4 sec'],}\n",
        "df = DataFrame(C, columns= ['train acc','test acc','precision(macro)','recall(macro)','f1(macro)','specificity(macro)','AUC(macro)','train time per epoch','test time per epoch'])\n",
        "export_csv = df.to_csv (r'E:\\result2.csv', index = None, header=True) \n",
        "print (df)"
      ],
      "execution_count": 29,
      "outputs": [
        {
          "output_type": "stream",
          "text": [
            "            train acc  ... test time per epoch\n",
            "0  0.7864583134651184  ...               4 sec\n",
            "\n",
            "[1 rows x 9 columns]\n"
          ],
          "name": "stdout"
        }
      ]
    },
    {
      "cell_type": "code",
      "metadata": {
        "colab": {
          "base_uri": "https://localhost:8080/"
        },
        "id": "hbZhvzxlNzoX",
        "outputId": "a9fa9578-aca1-4b24-b064-1901487b5130"
      },
      "source": [
        "from pandas import DataFrame\n",
        "C = {\n",
        "     'TPR': TPR,\n",
        "     'FPR': FPR}\n",
        "df = DataFrame(C, columns= ['TPR','FPR'])\n",
        "export_csv = df.to_csv (r'E:\\result3.csv', index = None, header=True) \n",
        "print (df)"
      ],
      "execution_count": 30,
      "outputs": [
        {
          "output_type": "stream",
          "text": [
            "        TPR       FPR\n",
            "0  0.770833  0.028130\n",
            "1  0.641026  0.045083\n",
            "2  0.682927  0.111704\n",
            "3  0.636364  0.097410\n",
            "4  0.638889  0.065082\n",
            "5  0.222222  0.034356\n",
            "6  0.275862  0.055056\n",
            "7  0.696970  0.053880\n"
          ],
          "name": "stdout"
        }
      ]
    }
  ]
}